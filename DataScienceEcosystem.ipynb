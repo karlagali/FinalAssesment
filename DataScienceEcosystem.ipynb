{
 "cells": [
  {
   "cell_type": "markdown",
   "id": "30a7dfb9",
   "metadata": {},
   "source": [
    "# Data Science Tools and Ecosystem"
   ]
  },
  {
   "cell_type": "markdown",
   "id": "52b3e7a9",
   "metadata": {},
   "source": [
    "In this notebook, Data Science Tools and Ecosystem are summarized."
   ]
  },
  {
   "cell_type": "markdown",
   "id": "164f9804",
   "metadata": {},
   "source": [
    "__Objectives:__\n",
    "- Popular languages for Data Science\n",
    "- Common libraries for Data Science\n",
    "- Arithmetic expressions"
   ]
  },
  {
   "cell_type": "markdown",
   "id": "476d848c",
   "metadata": {},
   "source": [
    "Some of the popular languages that Data Scientists use are:\n",
    "1. Python\n",
    "2. R\n",
    "3. SQL"
   ]
  },
  {
   "cell_type": "markdown",
   "id": "37bbc6fb",
   "metadata": {},
   "source": [
    "Some of the commonly ued libraries used by Data Scientist include:\n",
    "1. NumPy\n",
    "2. Pandas\n",
    "3. Matplotlib"
   ]
  },
  {
   "cell_type": "markdown",
   "id": "c3b9d6fa",
   "metadata": {},
   "source": [
    "|Data Science Tools |\n",
    "------------------------\n",
    "|Jupyter |\n",
    "|Apache Zeppelin |\n",
    "|Spyder|\n"
   ]
  },
  {
   "cell_type": "markdown",
   "id": "18663718",
   "metadata": {},
   "source": [
    "### Below are a few examples of evaluating arithmetic expressions in Python"
   ]
  },
  {
   "cell_type": "markdown",
   "id": "8d70acbf",
   "metadata": {},
   "source": [
    "_This is a simple arithmetic expression to multiply then add integers_"
   ]
  },
  {
   "cell_type": "code",
   "execution_count": 2,
   "id": "5bd184f8",
   "metadata": {},
   "outputs": [
    {
     "data": {
      "text/plain": [
       "17"
      ]
     },
     "execution_count": 2,
     "metadata": {},
     "output_type": "execute_result"
    }
   ],
   "source": [
    "(3*4)+5"
   ]
  },
  {
   "cell_type": "markdown",
   "id": "b48f61b4",
   "metadata": {},
   "source": [
    "_This will convert 200 minutes to hours by dividing by 60_"
   ]
  },
  {
   "cell_type": "code",
   "execution_count": 3,
   "id": "661b1a43",
   "metadata": {},
   "outputs": [
    {
     "data": {
      "text/plain": [
       "3.3333333333333335"
      ]
     },
     "execution_count": 3,
     "metadata": {},
     "output_type": "execute_result"
    }
   ],
   "source": [
    "200/60"
   ]
  },
  {
   "cell_type": "markdown",
   "id": "0d5025ac",
   "metadata": {},
   "source": [
    "## Author\n",
    "Karla Galicia"
   ]
  }
 ],
 "metadata": {
  "kernelspec": {
   "display_name": "Python 3 (ipykernel)",
   "language": "python",
   "name": "python3"
  },
  "language_info": {
   "codemirror_mode": {
    "name": "ipython",
    "version": 3
   },
   "file_extension": ".py",
   "mimetype": "text/x-python",
   "name": "python",
   "nbconvert_exporter": "python",
   "pygments_lexer": "ipython3",
   "version": "3.9.12"
  }
 },
 "nbformat": 4,
 "nbformat_minor": 5
}
